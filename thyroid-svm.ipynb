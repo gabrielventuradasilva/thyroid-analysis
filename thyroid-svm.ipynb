{
 "cells": [
  {
   "cell_type": "markdown",
   "metadata": {},
   "source": [
    "### Importações"
   ]
  },
  {
   "cell_type": "code",
   "execution_count": 11,
   "metadata": {},
   "outputs": [],
   "source": [
    "# importing the libraries\n",
    "import pandas as pd\n",
    "import numpy as np\n",
    "import matplotlib.pyplot as plt\n",
    "from sklearn.model_selection import train_test_split\n",
    "from sklearn.svm import SVC\n",
    "from sklearn.metrics import accuracy_score, classification_report, confusion_matrix\n",
    "from sklearn.preprocessing import LabelEncoder"
   ]
  },
  {
   "cell_type": "markdown",
   "metadata": {},
   "source": [
    "### Carregamento dos Dados"
   ]
  },
  {
   "cell_type": "code",
   "execution_count": 12,
   "metadata": {},
   "outputs": [
    {
     "name": "stdout",
     "output_type": "stream",
     "text": [
      "age                       0\n",
      "sex                     307\n",
      "on_thyroxine              0\n",
      "query_on_thyroxine        0\n",
      "on_antithyroid_meds       0\n",
      "sick                      0\n",
      "pregnant                  0\n",
      "thyroid_surgery           0\n",
      "I131_treatment            0\n",
      "query_hypothyroid         0\n",
      "query_hyperthyroid        0\n",
      "lithium                   0\n",
      "goitre                    0\n",
      "tumor                     0\n",
      "hypopituitary             0\n",
      "psych                     0\n",
      "TSH_measured              0\n",
      "TSH                     842\n",
      "T3_measured               0\n",
      "T3                     2604\n",
      "TT4_measured              0\n",
      "TT4                     442\n",
      "T4U_measured              0\n",
      "T4U                     809\n",
      "FTI_measured              0\n",
      "FTI                     802\n",
      "TBG_measured              0\n",
      "TBG                    8823\n",
      "referral_source           0\n",
      "target                    0\n",
      "patient_id                0\n",
      "dtype: int64\n"
     ]
    }
   ],
   "source": [
    "data = pd.read_csv('thyroid-dataset.csv')\n",
    "#print(data['target'].unique())\n",
    "#data.info()\n",
    "\n",
    "# Contagem das colunas com valores nulos\n",
    "null_by_column = data.isnull().sum()\n",
    "print(null_by_column)"
   ]
  },
  {
   "cell_type": "markdown",
   "metadata": {},
   "source": [
    "### Limpeza dos dados"
   ]
  },
  {
   "cell_type": "code",
   "execution_count": 13,
   "metadata": {},
   "outputs": [
    {
     "name": "stdout",
     "output_type": "stream",
     "text": [
      "<class 'pandas.core.frame.DataFrame'>\n",
      "Index: 4812 entries, 19 to 9141\n",
      "Data columns (total 6 columns):\n",
      " #   Column  Non-Null Count  Dtype  \n",
      "---  ------  --------------  -----  \n",
      " 0   TSH     4812 non-null   float64\n",
      " 1   T3      4812 non-null   float64\n",
      " 2   TT4     4812 non-null   float64\n",
      " 3   T4U     4812 non-null   float64\n",
      " 4   FTI     4812 non-null   float64\n",
      " 5   target  4812 non-null   object \n",
      "dtypes: float64(5), object(1)\n",
      "memory usage: 263.2+ KB\n"
     ]
    }
   ],
   "source": [
    "# Remover as colunas com alta quantidade de valores nulos\n",
    "#data = data.drop(columns=['TBG_measured', 'TBG'])\n",
    "#data = data.drop(columns=['T3_measured', 'T3'])\n",
    "data = data[['TSH', 'T3', 'TT4', 'T4U', 'FTI', 'target']]\n",
    "\n",
    "# Remover todas as linhas com algum valor nulo\n",
    "data.dropna(inplace=True)\n",
    "\n",
    "# Remover valores diferentes para target\n",
    "allowed_values = ['-', 'A', 'B', 'C', 'D', 'E', 'F', 'G', 'H']\n",
    "data = data[data['target'].isin(allowed_values)]\n",
    "\n",
    "data.info()"
   ]
  },
  {
   "cell_type": "markdown",
   "metadata": {},
   "source": [
    "### Análise dos Diagnósticos"
   ]
  },
  {
   "cell_type": "code",
   "execution_count": 14,
   "metadata": {},
   "outputs": [
    {
     "name": "stdout",
     "output_type": "stream",
     "text": [
      "target\n",
      "0    4296\n",
      "1     126\n",
      "2     390\n",
      "Name: count, dtype: int64\n"
     ]
    }
   ],
   "source": [
    "# Mapeamento dos valores\n",
    "# 0 - Sem diagnóstico\n",
    "# 1 - Hipertireoidismo\n",
    "# 2 - Hipotireoidismo \n",
    "target_mapping = {\n",
    "    '-': 0,\n",
    "    'A': 1, 'B': 1, 'C': 1, 'D': 1,\n",
    "    'E': 2, 'F': 2, 'G': 2, 'H': 2\n",
    "}\n",
    "\n",
    "data['target'] = data['target'].map(target_mapping)\n",
    "\n",
    "# Contagem dos valores disponíveis na coluna target\n",
    "target_values = data['target'].value_counts()\n",
    "target_values = target_values.sort_index()\n",
    "\n",
    "print(target_values)"
   ]
  },
  {
   "cell_type": "markdown",
   "metadata": {},
   "source": [
    "### Treinamento e Teste"
   ]
  },
  {
   "cell_type": "code",
   "execution_count": 20,
   "metadata": {},
   "outputs": [
    {
     "name": "stdout",
     "output_type": "stream",
     "text": [
      "Treinamento: 4378\n",
      "Teste: 434\n",
      "Acurácia: 0.9654377880184332\n",
      "\n",
      "Relatório de Classificação:\n",
      "               precision    recall  f1-score   support\n",
      "\n",
      "           0       0.97      1.00      0.98       396\n",
      "           1       1.00      0.71      0.83         7\n",
      "           2       0.95      0.61      0.75        31\n",
      "\n",
      "    accuracy                           0.97       434\n",
      "   macro avg       0.97      0.77      0.85       434\n",
      "weighted avg       0.97      0.97      0.96       434\n",
      "\n",
      "\n",
      "Matriz de Confusão:\n",
      " [[395   0   1]\n",
      " [  2   5   0]\n",
      " [ 12   0  19]]\n"
     ]
    }
   ],
   "source": [
    "# Identificar as colunas categóricas\n",
    "#categorical_columns = data.select_dtypes(include=['object']).columns\n",
    "\n",
    "# Aplicar LabelEncoder nas colunas categóricas\n",
    "#label_encoders = {}\n",
    "#for col in categorical_columns:\n",
    "#    le = LabelEncoder()\n",
    "#    data[col] = le.fit_transform(data[col])\n",
    "#    label_encoders[col] = le\n",
    "\n",
    "# Separar as features (X) e o diagnóstico (y)\n",
    "X = data.drop(columns=['target'])\n",
    "y = data['target']\n",
    "\n",
    "# Criar os conjuntos de treinamento e teste\n",
    "X_train, X_test, y_train, y_test = train_test_split(X, y, test_size=0.1, random_state=42)\n",
    "\n",
    "print(\"Treinamento:\", X_train.shape[0])\n",
    "print(\"Teste:\", X_test.shape[0])\n",
    "\n",
    "# Cria o modelo SVM\n",
    "model = SVC()\n",
    "\n",
    "# Treina o modelo\n",
    "model.fit(X_train, y_train)\n",
    "\n",
    "# Faz previsões no conjunto de teste\n",
    "y_pred = model.predict(X_test)\n",
    "\n",
    "# Avalia o modelo\n",
    "accuracy = accuracy_score(y_test, y_pred)\n",
    "classification_rep = classification_report(y_test, y_pred)\n",
    "conf_matrix = confusion_matrix(y_test, y_pred)\n",
    "\n",
    "print(\"Acurácia:\", accuracy)\n",
    "print(\"\\nRelatório de Classificação:\\n\", classification_rep)\n",
    "print(\"\\nMatriz de Confusão:\\n\", conf_matrix)"
   ]
  }
 ],
 "metadata": {
  "kernelspec": {
   "display_name": "Python 3.10.5 64-bit",
   "language": "python",
   "name": "python3"
  },
  "language_info": {
   "codemirror_mode": {
    "name": "ipython",
    "version": 3
   },
   "file_extension": ".py",
   "mimetype": "text/x-python",
   "name": "python",
   "nbconvert_exporter": "python",
   "pygments_lexer": "ipython3",
   "version": "3.10.12"
  },
  "orig_nbformat": 4,
  "vscode": {
   "interpreter": {
    "hash": "26de051ba29f2982a8de78e945f0abaf191376122a1563185a90213a26c5da77"
   }
  }
 },
 "nbformat": 4,
 "nbformat_minor": 2
}
